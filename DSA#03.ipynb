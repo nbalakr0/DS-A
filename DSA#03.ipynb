{
 "cells": [
  {
   "cell_type": "code",
   "execution_count": 5,
   "id": "448ef694",
   "metadata": {},
   "outputs": [],
   "source": [
    "import requests\n",
    "import pandas as pd\n",
    "from bs4 import BeautifulSoup"
   ]
  },
  {
   "cell_type": "code",
   "execution_count": 6,
   "id": "8b028a70",
   "metadata": {},
   "outputs": [],
   "source": [
    "html_doc =\"\"\"\n",
    "<table>\n",
    "  <tbody><tr>\n",
    "    <th>Student</th>\n",
    "    <th>Favourite Computer Language</th>\n",
    "    <th>Years of Experience</th>\n",
    "  </tr>\n",
    "  <tr>\n",
    "    <td>Fred</td>\n",
    "    <td>Kotlin</td>\n",
    "    <td>4</td>\n",
    "  </tr>\n",
    "  <tr>\n",
    "    <td>Paula</td>\n",
    "    <td>Python</td>\n",
    "    <td>2</td>\n",
    "  </tr>\n",
    "  <tr>\n",
    "    <td>Ernst</td>\n",
    "    <td>Java</td>\n",
    "    <td>7</td>\n",
    "  </tr>\n",
    "  <tr>\n",
    "    <td>Isabel</td>\n",
    "    <td>C++</td>\n",
    "    <td>3</td>\n",
    "  </tr>\n",
    "  <tr>\n",
    "    <td>Tony</td>\n",
    "    <td>Pearl</td>\n",
    "    <td>7</td>\n",
    "  </tr>\n",
    "  <tr>\n",
    "    <td>Maria</td>\n",
    "    <td>Cobol</td>\n",
    "    <td>15</td>\n",
    "  </tr>\n",
    "</tbody></table>\n",
    "\"\"\""
   ]
  },
  {
   "cell_type": "code",
   "execution_count": 7,
   "id": "baf5dafc",
   "metadata": {},
   "outputs": [
    {
     "name": "stdout",
     "output_type": "stream",
     "text": [
      "  Student Favourite Computer Language Years of Experience\n",
      "0    Fred                      Kotlin                   4\n",
      "1   Paula                      Python                   2\n",
      "2   Ernst                        Java                   7\n",
      "3  Isabel                         C++                   3\n",
      "4    Tony                       Pearl                   7\n",
      "5   Maria                       Cobol                  15\n"
     ]
    }
   ],
   "source": [
    "soup = BeautifulSoup(html_doc, 'html.parser')\n",
    "\n",
    "headers = [header.text for header in soup.find_all('th')]\n",
    "\n",
    "data = []\n",
    "rows = soup.find_all('tr')\n",
    "for row in rows[1:]:\n",
    "    cols = row.find_all('td')\n",
    "    data.append([ele.text.strip() for ele in cols])\n",
    "\n",
    "df = pd.DataFrame(data, columns=headers)\n",
    "\n",
    "print(df)"
   ]
  },
  {
   "cell_type": "code",
   "execution_count": null,
   "id": "c7afaa34",
   "metadata": {},
   "outputs": [],
   "source": []
  },
  {
   "cell_type": "code",
   "execution_count": null,
   "id": "38f24bba",
   "metadata": {},
   "outputs": [],
   "source": []
  }
 ],
 "metadata": {
  "kernelspec": {
   "display_name": "Python 3 (ipykernel)",
   "language": "python",
   "name": "python3"
  },
  "language_info": {
   "codemirror_mode": {
    "name": "ipython",
    "version": 3
   },
   "file_extension": ".py",
   "mimetype": "text/x-python",
   "name": "python",
   "nbconvert_exporter": "python",
   "pygments_lexer": "ipython3",
   "version": "3.11.4"
  }
 },
 "nbformat": 4,
 "nbformat_minor": 5
}
